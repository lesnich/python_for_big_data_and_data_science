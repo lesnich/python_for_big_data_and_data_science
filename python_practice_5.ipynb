{
  "nbformat": 4,
  "nbformat_minor": 0,
  "metadata": {
    "colab": {
      "provenance": []
    },
    "kernelspec": {
      "name": "python3",
      "display_name": "Python 3"
    },
    "language_info": {
      "name": "python"
    }
  },
  "cells": [
    {
      "cell_type": "markdown",
      "source": [
        "# I. OOP"
      ],
      "metadata": {
        "id": "5qV_sehzFCTp"
      }
    },
    {
      "cell_type": "markdown",
      "source": [
        "1. (6б). Створіть клас Animal, додайте три атрибути, один з яких має значення за замовчуванням та два методи на свій розсуд."
      ],
      "metadata": {
        "id": "tx_U_hOALyfg"
      }
    },
    {
      "cell_type": "code",
      "source": [
        "class Animal:\n",
        "    def __init__(self, name, species, sound=\"\"):\n",
        "        self.name = name\n",
        "        self.species = species\n",
        "        self.sound = sound\n",
        "\n",
        "    def make_sound(self):\n",
        "        if self.sound:\n",
        "            print(f\"{self.name} says {self.sound}\")\n",
        "        else:\n",
        "            print(f\"{self.name} doesn't make any sound.\")\n",
        "\n",
        "    def move(self, distance):\n",
        "        print(f\"{self.name} moves {distance} meters.\")"
      ],
      "metadata": {
        "id": "-Vf895KaL88N"
      },
      "execution_count": 1,
      "outputs": []
    },
    {
      "cell_type": "markdown",
      "source": [
        "2. (2б). Створіть два обʼєкти цього класу, де один з обʼєктів створюється із дефолтним значенням атрибуту. На одному обʼєкті отримайте значення його атрибуту, а на іншому викличте один з його методів."
      ],
      "metadata": {
        "id": "X_UlOMB0L93w"
      }
    },
    {
      "cell_type": "code",
      "source": [
        "cat = Animal(name=\"Whiskers\", species=\"Cat\")\n",
        "print(f\"{cat.name}'s species: {cat.species}\")\n",
        "\n",
        "dog = Animal(name=\"Buddy\", species=\"Dog\", sound=\"Woof\")\n",
        "dog.make_sound()"
      ],
      "metadata": {
        "id": "7gBu0ESOMCpG",
        "colab": {
          "base_uri": "https://localhost:8080/"
        },
        "outputId": "6b5bf782-508a-4053-9300-65c00862dab6"
      },
      "execution_count": 2,
      "outputs": [
        {
          "output_type": "stream",
          "name": "stdout",
          "text": [
            "Whiskers's species: Cat\n",
            "Buddy says Woof\n"
          ]
        }
      ]
    },
    {
      "cell_type": "markdown",
      "source": [
        "3. (5б). Створіть клас, де атрибути мають різні рівні доступу. Спробуйте отримати їхні значення та опишіть результати."
      ],
      "metadata": {
        "id": "HoqSCZt1MHn5"
      }
    },
    {
      "cell_type": "code",
      "source": [
        "class MyClass:\n",
        "    def __init__(self):\n",
        "        self.public_attribute = \"Public Attribute\"\n",
        "        self._protected_attribute = \"Protected Attribute\"\n",
        "        self.__private_attribute = \"Private Attribute\"\n",
        "\n",
        "    def get_private_attribute(self):\n",
        "        return self.__private_attribute\n",
        "\n",
        "my_object = MyClass()\n",
        "print(\"Public attribute:\", my_object.public_attribute)\n",
        "print(\"Protected attribute:\", my_object._protected_attribute)\n",
        "# Спроба отримати значення приватного атрибуту напряму (це призведе до помилки)\n",
        "# print(\"Private attribute:\", my_object.__private_attribute)\n",
        "# Спроба отримати значення приватного атрибуту за допомогою методу\n",
        "print(\"Private attribute (via method):\", my_object.get_private_attribute())"
      ],
      "metadata": {
        "id": "r9b3vJxBMSPV",
        "colab": {
          "base_uri": "https://localhost:8080/"
        },
        "outputId": "6fe8ad3a-c813-429e-bf53-3ab361a6dc77"
      },
      "execution_count": 3,
      "outputs": [
        {
          "output_type": "stream",
          "name": "stdout",
          "text": [
            "Public attribute: Public Attribute\n",
            "Protected attribute: Protected Attribute\n",
            "Private attribute (via method): Private Attribute\n"
          ]
        }
      ]
    },
    {
      "cell_type": "markdown",
      "source": [
        "У цьому прикладі public_attribute - це атрибут з рівнем доступу \"public\", protected_attribute - з рівнем \"protected\", і __private_attribute - з рівнем \"private\". Доступ до приватного атрибуту здійснюється через метод get_private_attribute(), оскільки прямий доступ до __private_attribute за межами класу призведе до помилки."
      ],
      "metadata": {
        "id": "fgg6uiwOudaC"
      }
    },
    {
      "cell_type": "markdown",
      "source": [
        "4. (7б). Як ви розумієте термін self? Для чого використовується метод __init __?"
      ],
      "metadata": {
        "id": "5op2m2vgMSkZ"
      }
    },
    {
      "cell_type": "markdown",
      "source": [
        "self вказує на сам об'єкт, до якого зараз викликається метод. У методах класу, self є конвенційним ім'ям для першого параметра методу, і це дозволяє об'єкту визначати та взаємодіяти зі своїми власними атрибутами та методами.\n",
        "Коли ми створюємо об'єкт з класу, конструктор класу, представлений методом __init__, викликається автоматично. Метод __init__ використовується для ініціалізації об'єкта, тобто встановлення початкових значень його атрибутів."
      ],
      "metadata": {
        "id": "DyiPqNRvMasx"
      }
    },
    {
      "cell_type": "markdown",
      "source": [
        "5. (9б). Створіть клас Фігура без атрибутів, з методом get_area для отримання площі фігури, що повертає 0 та __add __, який приймає self та other в якості аргументів, а повертає суму площин фігур self та other."
      ],
      "metadata": {
        "id": "-6X8EGfjMd2y"
      }
    },
    {
      "cell_type": "code",
      "source": [
        "class Figure:\n",
        "    def get_area(self):\n",
        "        return 0\n",
        "\n",
        "    def __add__(self, other):\n",
        "        if isinstance(other, Figure):\n",
        "            return self.get_area() + other.get_area()"
      ],
      "metadata": {
        "id": "4rvO_wYUMaEr"
      },
      "execution_count": 4,
      "outputs": []
    },
    {
      "cell_type": "markdown",
      "source": [
        "6. (11б). Створіть 2 дочірніх класи від Фігури: Трикутник та Коло, які мають атрибути, необхідні для розрахунку площин. Визначте метод get_area в кожному з них так, щоби вони розраховували площу в залежності від формули для кожного типу фігури. Створіть обʼєкт класу Трикутник та обʼєкт класу Коло. Виконайте операцію суми за допомогою оператора + між ними."
      ],
      "metadata": {
        "id": "SFcKnnv5Mo_z"
      }
    },
    {
      "cell_type": "code",
      "source": [
        "class Triangle(Figure):\n",
        "    def __init__(self, base, height):\n",
        "        self.base = base\n",
        "        self.height = height\n",
        "\n",
        "    def get_area(self):\n",
        "        return 0.5 * self.base * self.height\n",
        "\n",
        "class Circle(Figure):\n",
        "    def __init__(self, radius):\n",
        "        self.radius = radius\n",
        "\n",
        "    def get_area(self):\n",
        "        return 3.14 * (self.radius ** 2)\n",
        "\n",
        "\n",
        "triangle = Triangle(5, 8)\n",
        "circle = Circle(3)\n",
        "\n",
        "area_triangle = triangle.get_area()\n",
        "area_circle = circle.get_area()\n",
        "\n",
        "print(f\"Area of Triangle: {area_triangle}\")\n",
        "print(f\"Area of Circle: {area_circle}\")\n",
        "\n",
        "total_area = triangle + circle\n",
        "print(f\"Total Area: {total_area}\")"
      ],
      "metadata": {
        "id": "H3GVNr69Muf3",
        "colab": {
          "base_uri": "https://localhost:8080/"
        },
        "outputId": "c888c3a6-72f8-4ba5-cd8d-041cecf4d845"
      },
      "execution_count": 5,
      "outputs": [
        {
          "output_type": "stream",
          "name": "stdout",
          "text": [
            "Area of Triangle: 20.0\n",
            "Area of Circle: 28.26\n",
            "Total Area: 48.260000000000005\n"
          ]
        }
      ]
    },
    {
      "cell_type": "markdown",
      "source": [
        "7. (3б). Продемонструйте різницю між isinstance та issubclass."
      ],
      "metadata": {
        "id": "HCvR206YMvLK"
      }
    },
    {
      "cell_type": "code",
      "source": [
        "# Приклад використання isinstance\n",
        "# Функція isinstance використовується для перевірки того,\n",
        "# чи об'єкт належить до певного класу або типу.\n",
        "x = 5\n",
        "y = \"Hello\"\n",
        "\n",
        "print(isinstance(x, int))    # True, тому що x є цілим числом\n",
        "print(isinstance(y, str))    # True, тому що y є рядком\n",
        "\n",
        "# Приклад використання issubclass\n",
        "# Функція issubclass використовується для перевірки того,\n",
        "# чи один клас є підкласом іншого.\n",
        "class Animal:\n",
        "    pass\n",
        "\n",
        "class Dog(Animal):\n",
        "    pass\n",
        "\n",
        "class Cat(Animal):\n",
        "    pass\n",
        "\n",
        "print(issubclass(Dog, Animal))   # True, тому що Dog є підкласом Animal\n",
        "print(issubclass(Cat, Animal))   # True, тому що Cat є підкласом Animal"
      ],
      "metadata": {
        "id": "L_V1bBvDM0GN",
        "colab": {
          "base_uri": "https://localhost:8080/"
        },
        "outputId": "f064c13a-d134-40d4-9a1f-f500dace7f40"
      },
      "execution_count": 6,
      "outputs": [
        {
          "output_type": "stream",
          "name": "stdout",
          "text": [
            "True\n",
            "True\n",
            "True\n",
            "True\n"
          ]
        }
      ]
    },
    {
      "cell_type": "markdown",
      "source": [
        "8. (13б). Створіть клас BankAccount з приватними атрибутами balance та account_number. Реалізуйте методи поповнення та зняття коштів, забезпечивши належну інкапсуляцію. Підказка: використовуйте декоратори property та setter."
      ],
      "metadata": {
        "id": "jjsaBZ-iM0Qq"
      }
    },
    {
      "cell_type": "code",
      "source": [
        "class BankAccount:\n",
        "    def __init__(self, account_number, initial_balance=0):\n",
        "        self.__account_number = account_number\n",
        "        self.__balance = initial_balance\n",
        "\n",
        "    @property\n",
        "    def account_number(self):\n",
        "        return self.__account_number\n",
        "\n",
        "    @property\n",
        "    def balance(self):\n",
        "        return self.__balance\n",
        "\n",
        "    @balance.setter\n",
        "    def balance(self, new_balance):\n",
        "        if new_balance < 0:\n",
        "            print(\"Balance cannot be negative. Transaction aborted.\")\n",
        "        elif new_balance > self.__balance:\n",
        "            print(f\"Deposit: {new_balance - self.__balance}\")\n",
        "            self.__balance = new_balance\n",
        "            print(f\"Balance updated: {self.__balance}\")\n",
        "        else:\n",
        "            print(f\"Withdraw: {self.__balance - new_balance}\")\n",
        "            self.__balance = new_balance\n",
        "            print(f\"Balance updated: {self.__balance}\")\n",
        "\n",
        "\n",
        "\n",
        "account = BankAccount(account_number=\"123456789\", initial_balance=1000)\n",
        "\n",
        "print(f\"Account Number: {account.account_number}\")\n",
        "print(f\"Balance: {account.balance}\")\n",
        "\n",
        "account.balance = 1500\n",
        "account.balance = 1250"
      ],
      "metadata": {
        "id": "xCvZ7lh8M7YA",
        "colab": {
          "base_uri": "https://localhost:8080/"
        },
        "outputId": "e9128d86-c4d8-4a0d-93b1-620102769fe5"
      },
      "execution_count": 7,
      "outputs": [
        {
          "output_type": "stream",
          "name": "stdout",
          "text": [
            "Account Number: 123456789\n",
            "Balance: 1000\n",
            "Deposit: 500\n",
            "Balance updated: 1500\n",
            "Withdraw: 250\n",
            "Balance updated: 1250\n"
          ]
        }
      ]
    },
    {
      "cell_type": "markdown",
      "source": [
        "9. (11б). Створіть клас Library, який містить список об'єктів типу Book. Реалізуйте методи для додавання книги, видалення книги та відображення списку книг."
      ],
      "metadata": {
        "id": "tIzL2SJTM8ft"
      }
    },
    {
      "cell_type": "code",
      "source": [
        "class Book:\n",
        "    def __init__(self, title, author):\n",
        "        self.title = title\n",
        "        self.author = author\n",
        "\n",
        "    def __str__(self):\n",
        "        return f\"{self.title} by {self.author}\"\n",
        "\n",
        "class Library:\n",
        "    def __init__(self):\n",
        "        self.books = []\n",
        "\n",
        "    def add_book(self, book):\n",
        "        if isinstance(book, Book):\n",
        "            self.books.append(book)\n",
        "            print(f\"Added book: {book}\")\n",
        "        else:\n",
        "            print(\"Invalid book object. Please provide an instance of Book.\")\n",
        "\n",
        "    def remove_book(self, book):\n",
        "        if book in self.books:\n",
        "            self.books.remove(book)\n",
        "            print(f\"Removed book: {book}\")\n",
        "        else:\n",
        "            print(\"Book not found in the library.\")\n",
        "\n",
        "    def display_books(self):\n",
        "        if not self.books:\n",
        "            print(\"The library is empty.\")\n",
        "        else:\n",
        "            print(\"Library Books:\")\n",
        "            for book in self.books:\n",
        "                print(book)\n",
        "\n",
        "\n",
        "library = Library()\n",
        "\n",
        "book1 = Book(title=\"The Great Gatsby\", author=\"F. Scott Fitzgerald\")\n",
        "book2 = Book(title=\"To Kill a Mockingbird\", author=\"Harper Lee\")\n",
        "book3 = Book(title=\"1984\", author=\"George Orwell\")\n",
        "\n",
        "library.add_book(book1)\n",
        "library.add_book(book2)\n",
        "library.add_book(book3)\n",
        "\n",
        "library.display_books()\n",
        "\n",
        "library.remove_book(book2)\n",
        "\n",
        "library.display_books()\n"
      ],
      "metadata": {
        "id": "HWxfJKLtNAUZ",
        "colab": {
          "base_uri": "https://localhost:8080/"
        },
        "outputId": "c84a8ce4-9b34-4f21-e81e-5f29317ce501"
      },
      "execution_count": 8,
      "outputs": [
        {
          "output_type": "stream",
          "name": "stdout",
          "text": [
            "Added book: The Great Gatsby by F. Scott Fitzgerald\n",
            "Added book: To Kill a Mockingbird by Harper Lee\n",
            "Added book: 1984 by George Orwell\n",
            "Library Books:\n",
            "The Great Gatsby by F. Scott Fitzgerald\n",
            "To Kill a Mockingbird by Harper Lee\n",
            "1984 by George Orwell\n",
            "Removed book: To Kill a Mockingbird by Harper Lee\n",
            "Library Books:\n",
            "The Great Gatsby by F. Scott Fitzgerald\n",
            "1984 by George Orwell\n"
          ]
        }
      ]
    },
    {
      "cell_type": "markdown",
      "source": [
        "10. (13б). Створіть клас Person з атрибутами name та age. Створіть ще один клас Employee з такими атрибутами, як department та salary. Створіть клас Manager, який успадковує обидва класи Person та Employee. Продемонструйте використання множинної спадковості, створивши обʼєкт класу Manager та отримавши mro для цього класу."
      ],
      "metadata": {
        "id": "lmV8pAwwNIqu"
      }
    },
    {
      "cell_type": "code",
      "source": [
        "class Person:\n",
        "    def __init__(self, name, age):\n",
        "        self.name = name\n",
        "        self.age = age\n",
        "\n",
        "    def display_info(self):\n",
        "        print(f\"Name: {self.name}, Age: {self.age}\")\n",
        "\n",
        "\n",
        "class Employee:\n",
        "    def __init__(self, department, salary):\n",
        "        self.department = department\n",
        "        self.salary = salary\n",
        "\n",
        "    def display_info(self):\n",
        "        print(f\"Department: {self.department}, Salary: {self.salary}\")\n",
        "\n",
        "\n",
        "class Manager(Person, Employee):\n",
        "    def __init__(self, name, age, department, salary, title):\n",
        "        Person.__init__(self, name, age)\n",
        "        Employee.__init__(self, department, salary)\n",
        "        self.title = title\n",
        "\n",
        "    def display_info(self):\n",
        "        Person.display_info(self)\n",
        "        Employee.display_info(self)\n",
        "        print(f\"Title: {self.title}\")\n",
        "\n",
        "manager = Manager(name=\"Sofiia Kol\", age=35, department=\"HR\", salary=50000, title=\"Senior Manager\")\n",
        "manager.display_info()\n",
        "print(\"Method Resolution Order (MRO):\", Manager.mro())\n"
      ],
      "metadata": {
        "id": "R49grKlWNPeN",
        "colab": {
          "base_uri": "https://localhost:8080/"
        },
        "outputId": "e8ea5882-14e5-437c-b49c-b074aaabaab5"
      },
      "execution_count": 9,
      "outputs": [
        {
          "output_type": "stream",
          "name": "stdout",
          "text": [
            "Name: Sofiia Kol, Age: 35\n",
            "Department: HR, Salary: 50000\n",
            "Title: Senior Manager\n",
            "Method Resolution Order (MRO): [<class '__main__.Manager'>, <class '__main__.Person'>, <class '__main__.Employee'>, <class 'object'>]\n"
          ]
        }
      ]
    },
    {
      "cell_type": "markdown",
      "source": [
        "# II. Iterator"
      ],
      "metadata": {
        "id": "dIJyUiNBFG8G"
      }
    },
    {
      "cell_type": "markdown",
      "source": [
        "11. (4б). Визначте рядок(str) з 4ма різними за значенням символами. Створіть ітератор на основі цього рядка. Викличте 5 разів функцію next на ітераторі, 4ри перших з них огорніть у ф-цію print()."
      ],
      "metadata": {
        "id": "13vsm0NyKIzL"
      }
    },
    {
      "cell_type": "code",
      "source": [
        "my_string = \"abcd\"\n",
        "my_iterator = iter(my_string)\n",
        "for _ in range(5):\n",
        "    try:\n",
        "        value = next(my_iterator)\n",
        "        if _ < 4:\n",
        "            print(value)\n",
        "    except StopIteration:\n",
        "        print(\"Ітерації завершено.\")\n",
        "        break"
      ],
      "metadata": {
        "id": "81ntabAkKuz-",
        "colab": {
          "base_uri": "https://localhost:8080/"
        },
        "outputId": "080f2fe7-2763-4ae0-f065-08d8ee648111"
      },
      "execution_count": 12,
      "outputs": [
        {
          "output_type": "stream",
          "name": "stdout",
          "text": [
            "a\n",
            "b\n",
            "c\n",
            "d\n",
            "Ітерації завершено.\n"
          ]
        }
      ]
    },
    {
      "cell_type": "markdown",
      "source": [
        "А що якщо викликати цю ж функцію на рядку?"
      ],
      "metadata": {
        "id": "aekWHGXOLRsO"
      }
    },
    {
      "cell_type": "code",
      "source": [
        "my_string = \"abcd\"\n",
        "\n",
        "for _ in range(5):\n",
        "    try:\n",
        "        value = my_string[_]\n",
        "        if _ < 4:\n",
        "            print(value)\n",
        "    except IndexError:\n",
        "        print(\"Досягнуто кінця рядка.\")\n",
        "        break\n"
      ],
      "metadata": {
        "id": "mxATGsErLV1i",
        "colab": {
          "base_uri": "https://localhost:8080/"
        },
        "outputId": "3abfc16c-5edb-4703-ba44-433d4eb3d98b"
      },
      "execution_count": 13,
      "outputs": [
        {
          "output_type": "stream",
          "name": "stdout",
          "text": [
            "a\n",
            "b\n",
            "c\n",
            "d\n",
            "Досягнуто кінця рядка.\n"
          ]
        }
      ]
    },
    {
      "cell_type": "markdown",
      "source": [
        " 12. (5б). Опишіть своїми словами в одному реченні, як ви розумієте різницю між ітерабельними обʼєктами та ітераторами (можна на прикладі)."
      ],
      "metadata": {
        "id": "XwtMEopwJ4pH"
      }
    },
    {
      "cell_type": "markdown",
      "source": [
        "Ітерабельні об'єкти - це об'єкти, які можна перебирати, використовуючи ітерацію, наприклад, списки чи рядки, тоді як ітератори - це об'єкти, які зберігають стан ітерації та мають метод next(), який повертає наступний елемент послідовності, дозволяючи перебирання цієї послідовності без збереження всіх елементів у пам'яті."
      ],
      "metadata": {
        "id": "-sHrODc3KFn8"
      }
    },
    {
      "cell_type": "markdown",
      "source": [
        "13. (11б). Створіть клас, що має визначений Iterator Protocol та при кожному виклику next повертає літери англійської абетки, поки вони не вичерпаються."
      ],
      "metadata": {
        "id": "E9qJWmNbK8Gl"
      }
    },
    {
      "cell_type": "code",
      "source": [
        "class AlphabetIterator:\n",
        "    def __init__(self):\n",
        "        self.current_char = ord('a')\n",
        "\n",
        "    def __iter__(self):\n",
        "        return self\n",
        "\n",
        "    def __next__(self):\n",
        "        if self.current_char <= ord('z'):\n",
        "            char = chr(self.current_char)\n",
        "            self.current_char += 1\n",
        "            return char\n",
        "        else:\n",
        "            raise StopIteration\n",
        "\n",
        "alphabet_iterator = AlphabetIterator()\n",
        "for _ in range(26):\n",
        "  print(next(alphabet_iterator))"
      ],
      "metadata": {
        "id": "cqx-g_RsLo6I",
        "colab": {
          "base_uri": "https://localhost:8080/"
        },
        "outputId": "4a6eec6d-e280-426a-8dc6-5e02075371eb"
      },
      "execution_count": 15,
      "outputs": [
        {
          "output_type": "stream",
          "name": "stdout",
          "text": [
            "a\n",
            "b\n",
            "c\n",
            "d\n",
            "e\n",
            "f\n",
            "g\n",
            "h\n",
            "i\n",
            "j\n",
            "k\n",
            "l\n",
            "m\n",
            "n\n",
            "o\n",
            "p\n",
            "q\n",
            "r\n",
            "s\n",
            "t\n",
            "u\n",
            "v\n",
            "w\n",
            "x\n",
            "y\n",
            "z\n"
          ]
        }
      ]
    },
    {
      "cell_type": "markdown",
      "source": [
        "# Вітаю! Ви велика(ий) молодець, що впоралась(вся). Похваліть себе та побалуйте чимось приємним. Я Вами пишаюся."
      ],
      "metadata": {
        "id": "Z3E3S_s1Fv7-"
      }
    }
  ]
}